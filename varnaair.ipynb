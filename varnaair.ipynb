{
 "cells": [
  {
   "cell_type": "markdown",
   "id": "42663556",
   "metadata": {},
   "source": [
    "# VarnaAir - Open Programme\n",
    "\n",
    "## Introduction ℹ️"
   ]
  },
  {
   "cell_type": "markdown",
   "id": "34b8ab06",
   "metadata": {},
   "source": [
    "\n",
    "## Libraries 📚\n",
    "First, let's begin by importing the libraries and checking their versions."
   ]
  },
  {
   "cell_type": "code",
   "execution_count": 32,
   "id": "f6cfec2a",
   "metadata": {},
   "outputs": [],
   "source": [
    "import pandas\n",
    "import requests"
   ]
  },
  {
   "cell_type": "markdown",
   "id": "44075e18",
   "metadata": {},
   "source": [
    "## Data provisioning 📦"
   ]
  },
  {
   "cell_type": "code",
   "execution_count": 33,
   "id": "1246743e",
   "metadata": {},
   "outputs": [
    {
     "name": "stdout",
     "output_type": "stream",
     "text": [
      "        id                         name              locality\n",
      "0     8843  AMS SOU Angel Kanchev-Varna                 Варна\n",
      "1  2162113           AMS Chaika - Varna  National air network\n"
     ]
    }
   ],
   "source": [
    "url = \"https://api.openaq.org/v3/locations\"\n",
    "headers = {\n",
    "    \"X-API-Key\": \"c1061fd64a9bd88562b4bb823b7900ccdfd263a9a7aa54614de834dac611a4ca\"\n",
    "}\n",
    "params = {\n",
    "    \"coordinates\": \"43.224389,27.915733\",  # center of Varna\n",
    "    \"radius\": 5000,                        # 5 km radius\n",
    "    \"limit\": 100,                         \n",
    "}\n",
    "response = requests.get(url, headers=headers, params=params)\n",
    "\n",
    "data = response.json().get(\"results\", [])\n",
    "df_nearby_stations = pandas.DataFrame(data)\n",
    "print(df_nearby_stations[[\"id\", \"name\", \"locality\"]])"
   ]
  },
  {
   "cell_type": "code",
   "execution_count": 34,
   "id": "be09e0b2",
   "metadata": {},
   "outputs": [],
   "source": [
    "stations = {\n",
    "    \"AMS SOU Angel Kanchev-Varna\": 8843, \n",
    "    \"AMS Chaika - Varna\": 2162113\n",
    "}"
   ]
  }
 ],
 "metadata": {
  "kernelspec": {
   "display_name": "Python 3",
   "language": "python",
   "name": "python3"
  },
  "language_info": {
   "codemirror_mode": {
    "name": "ipython",
    "version": 3
   },
   "file_extension": ".py",
   "mimetype": "text/x-python",
   "name": "python",
   "nbconvert_exporter": "python",
   "pygments_lexer": "ipython3",
   "version": "3.11.5"
  }
 },
 "nbformat": 4,
 "nbformat_minor": 5
}
